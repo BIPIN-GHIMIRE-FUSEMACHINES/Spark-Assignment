{
  "cells": [
    {
      "cell_type": "markdown",
      "metadata": {
        "id": "_0vyTaRGOdmB"
      },
      "source": [
        "## Basic Structured Operations\n"
      ]
    },
    {
      "cell_type": "markdown",
      "metadata": {
        "id": "e2KpLHzVOdmE"
      },
      "source": [
        "### Step 1: Initialize PySpark Session\n"
      ]
    },
    {
      "cell_type": "code",
      "execution_count": 7,
      "metadata": {
        "id": "2Xue9qjMOdmE",
        "outputId": "5657c1b5-a544-4362-9219-3a4120a654b8"
      },
      "outputs": [
        {
          "name": "stderr",
          "output_type": "stream",
          "text": [
            "23/08/30 15:00:32 WARN SparkSession: Using an existing Spark session; only runtime SQL configurations will take effect.\n"
          ]
        }
      ],
      "source": [
        "from pyspark.sql import SparkSession\n",
        "\n",
        "# Create a Spark session\n",
        "spark = SparkSession.builder.appName(\"day2\").getOrCreate()\n"
      ]
    },
    {
      "cell_type": "markdown",
      "metadata": {
        "id": "SCeSCVDKOdmG"
      },
      "source": [
        "### Step 2: Load the Dataset\n"
      ]
    },
    {
      "cell_type": "code",
      "execution_count": 8,
      "metadata": {
        "id": "QHmqfHtkOdmG"
      },
      "outputs": [],
      "source": [
        "# Load the Chipotle dataset into a Spark DataFrame\n",
        "data_path = \"occupation.csv\"  # Replace with the actual path\n",
        "occupation = spark.read.csv(data_path, header=True, inferSchema=True)\n"
      ]
    },
    {
      "cell_type": "code",
      "execution_count": 3,
      "metadata": {
        "id": "8629vMtbOdmG",
        "outputId": "80bc57c1-d3d3-49d8-c2d4-7efde776ad1f"
      },
      "outputs": [
        {
          "name": "stdout",
          "output_type": "stream",
          "text": [
            "root\n",
            " |-- user_id: integer (nullable = true)\n",
            " |-- age: integer (nullable = true)\n",
            " |-- gender: string (nullable = true)\n",
            " |-- occupation: string (nullable = true)\n",
            " |-- zip_code: string (nullable = true)\n",
            "\n"
          ]
        }
      ],
      "source": [
        "occupation.printSchema()"
      ]
    },
    {
      "cell_type": "markdown",
      "metadata": {
        "id": "cS0eyFnbOdmH"
      },
      "source": [
        "### Problem 1: Selecting Specific Columns\n",
        "Problem: Select the \"user_id,\" \"age,\" and \"occupation\" columns from the occupation DataFrame."
      ]
    },
    {
      "cell_type": "code",
      "execution_count": 5,
      "metadata": {
        "id": "CWuoKeF6OdmH",
        "outputId": "6a8906c1-93ad-44cd-d27d-6e61614089d8"
      },
      "outputs": [
        {
          "name": "stdout",
          "output_type": "stream",
          "text": [
            "+-------+---+-------------+\n",
            "|user_id|age|   occupation|\n",
            "+-------+---+-------------+\n",
            "|      1| 24|   technician|\n",
            "|      2| 53|        other|\n",
            "|      3| 23|       writer|\n",
            "|      4| 24|   technician|\n",
            "|      5| 33|        other|\n",
            "|      6| 42|    executive|\n",
            "|      7| 57|administrator|\n",
            "|      8| 36|administrator|\n",
            "|      9| 29|      student|\n",
            "|     10| 53|       lawyer|\n",
            "|     11| 39|        other|\n",
            "|     12| 28|        other|\n",
            "|     13| 47|     educator|\n",
            "|     14| 45|    scientist|\n",
            "|     15| 49|     educator|\n",
            "|     16| 21|entertainment|\n",
            "|     17| 30|   programmer|\n",
            "|     18| 35|        other|\n",
            "|     19| 40|    librarian|\n",
            "|     20| 42|    homemaker|\n",
            "+-------+---+-------------+\n",
            "only showing top 20 rows\n",
            "\n"
          ]
        }
      ],
      "source": [
        "q1 = occupation.select('user_id',\"age\",\"occupation\")\n",
        "q1.show()"
      ]
    },
    {
      "cell_type": "markdown",
      "metadata": {
        "id": "jU96BgfUOdmI"
      },
      "source": [
        "### Problem 2: Filtering Rows based on Condition\n",
        "Problem: Find the users who are older than 30 years from the occupation DataFrame."
      ]
    },
    {
      "cell_type": "code",
      "execution_count": 11,
      "metadata": {
        "id": "jT23c29oOdmI",
        "outputId": "02777c45-7d5e-46db-9f70-91e2740ea8fc"
      },
      "outputs": [
        {
          "name": "stdout",
          "output_type": "stream",
          "text": [
            "+-------+---+------+-------------+--------+\n",
            "|user_id|age|gender|   occupation|zip_code|\n",
            "+-------+---+------+-------------+--------+\n",
            "|      2| 53|     F|        other|   94043|\n",
            "|      5| 33|     F|        other|   15213|\n",
            "|      6| 42|     M|    executive|   98101|\n",
            "|      7| 57|     M|administrator|   91344|\n",
            "|      8| 36|     M|administrator|   05201|\n",
            "|     10| 53|     M|       lawyer|   90703|\n",
            "|     11| 39|     F|        other|   30329|\n",
            "|     13| 47|     M|     educator|   29206|\n",
            "|     14| 45|     M|    scientist|   55106|\n",
            "|     15| 49|     F|     educator|   97301|\n",
            "|     18| 35|     F|        other|   37212|\n",
            "|     19| 40|     M|    librarian|   02138|\n",
            "|     20| 42|     F|    homemaker|   95660|\n",
            "|     25| 39|     M|     engineer|   55107|\n",
            "|     26| 49|     M|     engineer|   21044|\n",
            "|     27| 40|     F|    librarian|   30030|\n",
            "|     28| 32|     M|       writer|   55369|\n",
            "|     29| 41|     M|   programmer|   94043|\n",
            "|     34| 38|     F|administrator|   42141|\n",
            "|     39| 41|     M|entertainment|   01040|\n",
            "+-------+---+------+-------------+--------+\n",
            "only showing top 20 rows\n",
            "\n"
          ]
        }
      ],
      "source": [
        "older_than_30 = occupation.filter(occupation.age>30)\n",
        "older_than_30.show()"
      ]
    },
    {
      "cell_type": "markdown",
      "metadata": {
        "id": "_UgD4jOROdmI"
      },
      "source": [
        "### Problem 3: Counting and Grouping\n",
        "Problem: Count the number of users in each occupation from the occupation DataFrame."
      ]
    },
    {
      "cell_type": "code",
      "execution_count": 14,
      "metadata": {
        "id": "kQc6oqHHOdmI",
        "outputId": "48d4d8b1-289c-415d-f100-f7cce39a6840"
      },
      "outputs": [
        {
          "name": "stdout",
          "output_type": "stream",
          "text": [
            "+-------------+----------+\n",
            "|   occupation|user_count|\n",
            "+-------------+----------+\n",
            "|    librarian|        51|\n",
            "|      retired|        14|\n",
            "|       lawyer|        12|\n",
            "|         none|         9|\n",
            "|       writer|        45|\n",
            "|   programmer|        66|\n",
            "|    marketing|        26|\n",
            "|        other|       105|\n",
            "|    executive|        32|\n",
            "|    scientist|        31|\n",
            "|      student|       196|\n",
            "|     salesman|        12|\n",
            "|       artist|        28|\n",
            "|   technician|        27|\n",
            "|administrator|        79|\n",
            "|     engineer|        67|\n",
            "|   healthcare|        16|\n",
            "|     educator|        95|\n",
            "|entertainment|        18|\n",
            "|    homemaker|         7|\n",
            "+-------------+----------+\n",
            "only showing top 20 rows\n",
            "\n"
          ]
        }
      ],
      "source": [
        "occupation.groupBy(\"occupation\").count().withColumnRenamed(\"count\",\"user_count\").show()"
      ]
    },
    {
      "cell_type": "markdown",
      "metadata": {
        "id": "7_hay_fTOdmJ"
      },
      "source": [
        "### Problem 4: Adding a New Column\n",
        "Problem: Add a new column \"age_group\" to the occupation DataFrame based on the age of the users. Divide users into age groups: \"18-25\", \"26-35\", \"36-50\", and \"51+\"."
      ]
    },
    {
      "cell_type": "code",
      "execution_count": 15,
      "metadata": {
        "id": "A4DTh0q7OdmJ",
        "outputId": "aceddee9-a440-468d-9bba-244db4f8ac30"
      },
      "outputs": [],
      "source": [
        "from pyspark.sql.functions import col,when"
      ]
    },
    {
      "cell_type": "code",
      "execution_count": 17,
      "metadata": {},
      "outputs": [
        {
          "name": "stdout",
          "output_type": "stream",
          "text": [
            "+-------+---+------+-------------+--------+---------+\n",
            "|user_id|age|gender|   occupation|zip_code|age_group|\n",
            "+-------+---+------+-------------+--------+---------+\n",
            "|      1| 24|     M|   technician|   85711|    18-25|\n",
            "|      2| 53|     F|        other|   94043|      51+|\n",
            "|      3| 23|     M|       writer|   32067|    18-25|\n",
            "|      4| 24|     M|   technician|   43537|    18-25|\n",
            "|      5| 33|     F|        other|   15213|    26-35|\n",
            "|      6| 42|     M|    executive|   98101|    36-50|\n",
            "|      7| 57|     M|administrator|   91344|      51+|\n",
            "|      8| 36|     M|administrator|   05201|    36-50|\n",
            "|      9| 29|     M|      student|   01002|    26-35|\n",
            "|     10| 53|     M|       lawyer|   90703|      51+|\n",
            "|     11| 39|     F|        other|   30329|    36-50|\n",
            "|     12| 28|     F|        other|   06405|    26-35|\n",
            "|     13| 47|     M|     educator|   29206|    36-50|\n",
            "|     14| 45|     M|    scientist|   55106|    36-50|\n",
            "|     15| 49|     F|     educator|   97301|    36-50|\n",
            "|     16| 21|     M|entertainment|   10309|    18-25|\n",
            "|     17| 30|     M|   programmer|   06355|    26-35|\n",
            "|     18| 35|     F|        other|   37212|    26-35|\n",
            "|     19| 40|     M|    librarian|   02138|    36-50|\n",
            "|     20| 42|     F|    homemaker|   95660|    36-50|\n",
            "+-------+---+------+-------------+--------+---------+\n",
            "only showing top 20 rows\n",
            "\n"
          ]
        }
      ],
      "source": [
        "age_grp = occupation.withColumn(\"age_group\",\n",
        "                      when((occupation.age).between(18,25), \"18-25\")\n",
        "                      .when((occupation.age).between(26,35), \"26-35\")\n",
        "                      .when((occupation.age).between(36,50), \"36-50\")\n",
        "                      .otherwise(\"51+\")\n",
        "                      )\n",
        "\n",
        "age_grp.show()"
      ]
    },
    {
      "cell_type": "markdown",
      "metadata": {
        "id": "MAEhRUZ_OdmJ"
      },
      "source": [
        "### Problem 5: Creating DataFrames and Converting to Spark Types\n",
        "Problem: Given the provided code snippet, create a DataFrame df using the given data and schema. The schema includes columns for firstname, middlename, lastname, id, gender, and salary. After creating the DataFrame, print its schema and display its content without truncation."
      ]
    },
    {
      "cell_type": "code",
      "execution_count": 22,
      "metadata": {},
      "outputs": [
        {
          "name": "stderr",
          "output_type": "stream",
          "text": [
            "23/08/30 15:49:02 WARN SparkSession: Using an existing Spark session; only runtime SQL configurations will take effect.\n"
          ]
        }
      ],
      "source": [
        "from pyspark.sql import SparkSession\n",
        "\n",
        "def create_session():\n",
        "  spk = SparkSession.builder \\\n",
        "      .master(\"local\") \\\n",
        "      .appName(\"dataframe_building\") \\\n",
        "      .getOrCreate()\n",
        "  return spk\n",
        "\n",
        "spark1 = create_session()"
      ]
    },
    {
      "cell_type": "code",
      "execution_count": 4,
      "metadata": {},
      "outputs": [
        {
          "name": "stdout",
          "output_type": "stream",
          "text": [
            "+---------+----------+--------+-----+------+------+\n",
            "|firstname|middlename|lastname|   id|gender|salary|\n",
            "+---------+----------+--------+-----+------+------+\n",
            "|    james|          |   smith|36636|     M|  3000|\n",
            "|  micheal|      rose|        |40288|     M|  4000|\n",
            "|   robert|          |williams|42114|     M|  4000|\n",
            "|    maria|      anne|   jones|39192|     F|  4000|\n",
            "|      jen|      mary|   brown|     |     F|    -1|\n",
            "+---------+----------+--------+-----+------+------+\n",
            "\n"
          ]
        }
      ],
      "source": [
        "df = spark1.createDataFrame([\n",
        "    (\"james\",\"\",\"smith\",\"36636\",\"M\",3000),\n",
        "    (\"micheal\",\"rose\",\"\",\"40288\",\"M\",4000),\n",
        "    (\"robert\",\"\",\"williams\",\"42114\",\"M\",4000),\n",
        "    (\"maria\",\"anne\",\"jones\",\"39192\",\"F\",4000),\n",
        "    (\"jen\",\"mary\",\"brown\",\"\",\"F\",-1),\n",
        "],[\"firstname\",\"middlename\",\"lastname\",\"id\",\"gender\",\"salary\"])\n",
        "\n",
        "df.show()"
      ]
    },
    {
      "cell_type": "code",
      "execution_count": 5,
      "metadata": {
        "id": "XRk0jYf2OdmJ",
        "outputId": "530424ba-7284-41d5-b223-14d4c550ecbd"
      },
      "outputs": [
        {
          "name": "stdout",
          "output_type": "stream",
          "text": [
            "root\n",
            " |-- firstname: string (nullable = true)\n",
            " |-- middlename: string (nullable = true)\n",
            " |-- lastname: string (nullable = true)\n",
            " |-- id: string (nullable = true)\n",
            " |-- gender: string (nullable = true)\n",
            " |-- salary: long (nullable = true)\n",
            "\n"
          ]
        }
      ],
      "source": [
        "df.printSchema()"
      ]
    },
    {
      "cell_type": "markdown",
      "metadata": {
        "id": "8d6HTbjkOdmJ"
      },
      "source": [
        "### Problem 6: Adding and Renaming Columns\n",
        "Problem: Add a new column \"gender\" to the existing DataFrame and rename the \"Age\" column to \"Years\"."
      ]
    },
    {
      "cell_type": "code",
      "execution_count": 16,
      "metadata": {
        "id": "IeD1r6JDOdmJ",
        "outputId": "e5efcf28-6dba-4466-ea4d-8812bd171188"
      },
      "outputs": [
        {
          "name": "stdout",
          "output_type": "stream",
          "text": [
            "+-------+-----+-------+-------------+--------+\n",
            "|user_id|Years| gender|   occupation|zip_code|\n",
            "+-------+-----+-------+-------------+--------+\n",
            "|      1|   24|unknown|   technician|   85711|\n",
            "|      2|   53|unknown|        other|   94043|\n",
            "|      3|   23|unknown|       writer|   32067|\n",
            "|      4|   24|unknown|   technician|   43537|\n",
            "|      5|   33|unknown|        other|   15213|\n",
            "|      6|   42|unknown|    executive|   98101|\n",
            "|      7|   57|unknown|administrator|   91344|\n",
            "|      8|   36|unknown|administrator|   05201|\n",
            "|      9|   29|unknown|      student|   01002|\n",
            "|     10|   53|unknown|       lawyer|   90703|\n",
            "|     11|   39|unknown|        other|   30329|\n",
            "|     12|   28|unknown|        other|   06405|\n",
            "|     13|   47|unknown|     educator|   29206|\n",
            "|     14|   45|unknown|    scientist|   55106|\n",
            "|     15|   49|unknown|     educator|   97301|\n",
            "|     16|   21|unknown|entertainment|   10309|\n",
            "|     17|   30|unknown|   programmer|   06355|\n",
            "|     18|   35|unknown|        other|   37212|\n",
            "|     19|   40|unknown|    librarian|   02138|\n",
            "|     20|   42|unknown|    homemaker|   95660|\n",
            "+-------+-----+-------+-------------+--------+\n",
            "only showing top 20 rows\n",
            "\n"
          ]
        }
      ],
      "source": [
        "from pyspark.sql.functions import lit,col\n",
        "\n",
        "unknown_gender = occupation.withColumn(\"gender\",lit(\"unknown\"))\n",
        "check = unknown_gender.withColumnRenamed(\"age\",\"Years\")\n",
        "check.show()"
      ]
    },
    {
      "cell_type": "code",
      "execution_count": null,
      "metadata": {},
      "outputs": [],
      "source": []
    },
    {
      "cell_type": "markdown",
      "metadata": {
        "id": "b4fzgwd_OdmK"
      },
      "source": [
        "### Problem 7: Filtering Rows and Sorting\n",
        "Problem: Filter out users who are younger than 30 years and sort the DataFrame by age in descending order."
      ]
    },
    {
      "cell_type": "code",
      "execution_count": 21,
      "metadata": {},
      "outputs": [
        {
          "name": "stdout",
          "output_type": "stream",
          "text": [
            "+-------+-----+-------+-------------+--------+\n",
            "|user_id|Years| gender|   occupation|zip_code|\n",
            "+-------+-----+-------+-------------+--------+\n",
            "|    481|   73|unknown|      retired|   37771|\n",
            "|    767|   70|unknown|     engineer|   00000|\n",
            "|    803|   70|unknown|administrator|   78212|\n",
            "|    860|   70|unknown|      retired|   48322|\n",
            "|    559|   69|unknown|    executive|   10022|\n",
            "|    585|   69|unknown|    librarian|   98501|\n",
            "|    349|   68|unknown|      retired|   61455|\n",
            "|    573|   68|unknown|      retired|   48911|\n",
            "|    211|   66|unknown|     salesman|   32605|\n",
            "|    318|   65|unknown|      retired|   06518|\n",
            "|    564|   65|unknown|      retired|   94591|\n",
            "|    651|   65|unknown|      retired|   02903|\n",
            "|    423|   64|unknown|        other|   91606|\n",
            "|    845|   64|unknown|       doctor|   97405|\n",
            "|    364|   63|unknown|     engineer|   01810|\n",
            "|    777|   63|unknown|   programmer|   01810|\n",
            "|    858|   63|unknown|     educator|   09645|\n",
            "|    266|   62|unknown|administrator|   78756|\n",
            "|    520|   62|unknown|   healthcare|   12603|\n",
            "|    106|   61|unknown|      retired|   55125|\n",
            "+-------+-----+-------+-------------+--------+\n",
            "only showing top 20 rows\n",
            "\n"
          ]
        }
      ],
      "source": [
        "filtered_task = check.filter(occupation.age>30)\n",
        "sorted_result = filtered_task.orderBy(occupation.age.desc())\n",
        "sorted_result.show()"
      ]
    },
    {
      "cell_type": "code",
      "execution_count": null,
      "metadata": {
        "id": "BjZiTAGKOdmK",
        "outputId": "ee18fb1e-4d8b-41cc-a0e0-38586ae2de5a"
      },
      "outputs": [
        {
          "name": "stdout",
          "output_type": "stream",
          "text": [
            "+-------+-----+-------+-------------+--------+\n",
            "|user_id|Years| gender|   occupation|zip_code|\n",
            "+-------+-----+-------+-------------+--------+\n",
            "|    481|   73|Unknown|      retired|   37771|\n",
            "|    767|   70|Unknown|     engineer|   00000|\n",
            "|    803|   70|Unknown|administrator|   78212|\n",
            "|    860|   70|Unknown|      retired|   48322|\n",
            "|    559|   69|Unknown|    executive|   10022|\n",
            "|    585|   69|Unknown|    librarian|   98501|\n",
            "|    349|   68|Unknown|      retired|   61455|\n",
            "|    573|   68|Unknown|      retired|   48911|\n",
            "|    211|   66|Unknown|     salesman|   32605|\n",
            "|    318|   65|Unknown|      retired|   06518|\n",
            "|    564|   65|Unknown|      retired|   94591|\n",
            "|    651|   65|Unknown|      retired|   02903|\n",
            "|    423|   64|Unknown|        other|   91606|\n",
            "|    845|   64|Unknown|       doctor|   97405|\n",
            "|    364|   63|Unknown|     engineer|   01810|\n",
            "|    777|   63|Unknown|   programmer|   01810|\n",
            "|    858|   63|Unknown|     educator|   09645|\n",
            "|    266|   62|Unknown|administrator|   78756|\n",
            "|    520|   62|Unknown|   healthcare|   12603|\n",
            "|    351|   61|Unknown|     educator|   49938|\n",
            "+-------+-----+-------+-------------+--------+\n",
            "only showing top 20 rows\n",
            "\n"
          ]
        }
      ],
      "source": []
    },
    {
      "cell_type": "markdown",
      "metadata": {
        "id": "O8aHnnCMOdmK"
      },
      "source": [
        "### Problem 8: Repartitioning and Collecting Rows\n",
        "Problem: Repartition the DataFrame into 2 partitions without shuffling the data, then collect and display all rows in the driver and print number of partitions"
      ]
    },
    {
      "cell_type": "code",
      "execution_count": 39,
      "metadata": {
        "id": "za1176toOdmK",
        "outputId": "6103c38b-fc37-4223-b980-8215e86ba442"
      },
      "outputs": [
        {
          "name": "stdout",
          "output_type": "stream",
          "text": [
            "Row(firstname='james', middlename='', lastname='smith', id='36636', gender='M', salary=3000)\n",
            "Row(firstname='micheal', middlename='rose', lastname='', id='40288', gender='M', salary=4000)\n",
            "Row(firstname='robert', middlename='', lastname='williams', id='42114', gender='M', salary=4000)\n",
            "Row(firstname='maria', middlename='anne', lastname='jones', id='39192', gender='F', salary=4000)\n",
            "Row(firstname='jen', middlename='mary', lastname='brown', id='', gender='F', salary=-1)\n",
            "1\n"
          ]
        }
      ],
      "source": [
        "# Repartition the DataFrame into 2 partitions without shuffling\n",
        "repartitioned_df = df.coalesce(2)\n",
        "\n",
        "# Collect and display all rows in the driver\n",
        "all_rows = repartitioned_df.collect()\n",
        "for row in all_rows:\n",
        "    print(row)\n",
        "\n",
        "# Get the number of partitions\n",
        "num_partitions = repartitioned_df.rdd.getNumPartitions()\n",
        "print(num_partitions)\n"
      ]
    },
    {
      "cell_type": "code",
      "execution_count": null,
      "metadata": {
        "id": "ah2OTs_nOdmK",
        "outputId": "e6170feb-e9d9-4c4a-d112-5bcb110d14b8"
      },
      "outputs": [
        {
          "name": "stdout",
          "output_type": "stream",
          "text": [
            "Number of partitions = 2\n"
          ]
        }
      ],
      "source": []
    },
    {
      "cell_type": "markdown",
      "metadata": {
        "id": "Hzn_BGt_PuYH"
      },
      "source": []
    },
    {
      "cell_type": "markdown",
      "metadata": {
        "id": "YFKQzCADOdmK"
      },
      "source": [
        "### Additional questions:\n",
        "\n",
        "Use both spark SQL and Pyspark to obtain answer wherever relevant"
      ]
    },
    {
      "cell_type": "markdown",
      "metadata": {
        "id": "zCJtYZAHS5hi"
      },
      "source": [
        "#### Filter out rows where the age is greater than 30 and create a new DataFrame. Then, add a new column named \"is_elderly\" with a value of \"True\" for these rows and \"False\" otherwise.Rename the \"gender\" column to \"sex\"."
      ]
    },
    {
      "cell_type": "code",
      "execution_count": null,
      "metadata": {
        "id": "MPcoDeIgQ1y8"
      },
      "outputs": [],
      "source": [
        "# Spark SQL\n",
        "\n"
      ]
    },
    {
      "cell_type": "code",
      "execution_count": null,
      "metadata": {
        "id": "p1Mr79WeQvzS"
      },
      "outputs": [],
      "source": [
        "# Pyspark\n",
        "\n"
      ]
    },
    {
      "cell_type": "markdown",
      "metadata": {
        "id": "SoYi3_q7TCA9"
      },
      "source": [
        "#### Calculate the average age of male and female users separately. Present the result in a new DataFrame with columns \"gender\" and \"avg_age\"."
      ]
    },
    {
      "cell_type": "code",
      "execution_count": null,
      "metadata": {
        "id": "Seri4fe5Q2Ti"
      },
      "outputs": [],
      "source": [
        "# Spark SQL\n",
        "\n"
      ]
    },
    {
      "cell_type": "code",
      "execution_count": null,
      "metadata": {
        "id": "433nZ-6lQv5F"
      },
      "outputs": [],
      "source": [
        "# Pyspark\n",
        "\n"
      ]
    },
    {
      "cell_type": "markdown",
      "metadata": {
        "id": "SyMs561GTKtI"
      },
      "source": [
        "#### Add a new column named \"full_name\" to the dataset by concatenating the \"user_id\" and \"occupation\" columns. Then, rename the \"zip_code\" column to \"postal_code\" in the same DataFrame."
      ]
    },
    {
      "cell_type": "code",
      "execution_count": null,
      "metadata": {
        "id": "sZc6kifIQ2qa"
      },
      "outputs": [],
      "source": [
        "# Spark SQL\n",
        "\n"
      ]
    },
    {
      "cell_type": "code",
      "execution_count": null,
      "metadata": {
        "id": "hC_1VJbnQwFI"
      },
      "outputs": [],
      "source": [
        "# Pyspark\n",
        "\n"
      ]
    },
    {
      "cell_type": "markdown",
      "metadata": {
        "id": "7CPDOqPZUTWd"
      },
      "source": [
        "#### Filter out rows where occupation is 'technician', select only the \"user_id\" and \"age\" columns, and then add a new column \"age_diff\" that calculates the difference between the user's age and the average age in the dataset."
      ]
    },
    {
      "cell_type": "code",
      "execution_count": null,
      "metadata": {
        "id": "K8-rf3eAUZ0q"
      },
      "outputs": [],
      "source": [
        "# Spark SQL\n",
        "\n"
      ]
    },
    {
      "cell_type": "code",
      "execution_count": null,
      "metadata": {
        "id": "-HJ1PEFNUbg0"
      },
      "outputs": [],
      "source": [
        "# Pyspark\n",
        "\n"
      ]
    },
    {
      "cell_type": "markdown",
      "metadata": {
        "id": "dTIR2tJuTRID"
      },
      "source": [
        "#### Divide the dataset into two DataFrames: one with male users and another with female users. Repartition both DataFrames to have 2 partitions each. Then, union these two DataFrames together and display the resulting DataFrame."
      ]
    },
    {
      "cell_type": "code",
      "execution_count": null,
      "metadata": {
        "id": "4JKAn2n0P6Ib"
      },
      "outputs": [],
      "source": []
    },
    {
      "cell_type": "markdown",
      "metadata": {
        "id": "ZfVdjYOcTn_g"
      },
      "source": [
        "#### Create and fill a new DataFrame named user_ratings with columns user_id and rating max 10 column. Both user_data and user_ratings share the user_id column. Combine these two DataFrames to create a new DataFrame that includes user information and their corresponding ratings. Make sure to keep only the users present in both DataFrames."
      ]
    },
    {
      "cell_type": "code",
      "execution_count": null,
      "metadata": {
        "id": "a3Jw-vaEP4U4"
      },
      "outputs": [],
      "source": []
    }
  ],
  "metadata": {
    "colab": {
      "provenance": []
    },
    "kernelspec": {
      "display_name": "DQ",
      "language": "python",
      "name": "python3"
    },
    "language_info": {
      "codemirror_mode": {
        "name": "ipython",
        "version": 3
      },
      "file_extension": ".py",
      "mimetype": "text/x-python",
      "name": "python",
      "nbconvert_exporter": "python",
      "pygments_lexer": "ipython3",
      "version": "3.10.12"
    },
    "orig_nbformat": 4
  },
  "nbformat": 4,
  "nbformat_minor": 0
}
